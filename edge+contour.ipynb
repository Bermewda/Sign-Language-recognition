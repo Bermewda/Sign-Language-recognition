{
 "cells": [
  {
   "cell_type": "code",
   "execution_count": 168,
   "metadata": {},
   "outputs": [],
   "source": [
    "import os\n",
    "#-----------------------------  open import ---------------------------------------\n",
    "import cv2\n",
    "import numpy as np\n",
    "import matplotlib.pyplot as plt\n",
    "from skimage.io import imread,imshow\n",
    "from skimage import measure,color,io,feature\n",
    "from scipy.ndimage.morphology import binary_fill_holes\n",
    "\n",
    "import matplotlib.patches as mpatches\n",
    "\n",
    "from skimage.morphology import convex_hull_image\n",
    "\n",
    "from skimage.measure import label, regionprops\n",
    "\n",
    "import math\n",
    "\n",
    "from scipy import ndimage as ndi\n",
    "from skimage import feature\n",
    "%matplotlib inline"
   ]
  },
  {
   "cell_type": "code",
   "execution_count": null,
   "metadata": {},
   "outputs": [
    {
     "name": "stdout",
     "output_type": "stream",
     "text": [
      "0 "
     ]
    },
    {
     "name": "stderr",
     "output_type": "stream",
     "text": [
      "C:\\Users\\BEAMCONAN\\Anaconda3\\lib\\site-packages\\matplotlib\\pyplot.py:537: RuntimeWarning: More than 20 figures have been opened. Figures created through the pyplot interface (`matplotlib.pyplot.figure`) are retained until explicitly closed and may consume too much memory. (To control this warning, see the rcParam `figure.max_open_warning`).\n",
      "  max_open_warning, RuntimeWarning)\n"
     ]
    },
    {
     "name": "stdout",
     "output_type": "stream",
     "text": [
      "1 2 3 4 5 6 7 "
     ]
    }
   ],
   "source": [
    "    path='C:/Users/BEAMCONAN/project_finger/Dataset'\n",
    "#def dataset(path):\n",
    "    #img_matrix=np.array([])\n",
    "    for fname in os.listdir(path):\n",
    "        print(fname,end=' ')\n",
    "        paths=path+'/'+str(fname)\n",
    "       # img_array=[]\n",
    "        for iname in os.listdir(paths):\n",
    "            #print(iname,end=' ')\n",
    "            pathss=paths+'/'+str(iname)\n",
    "            img=imread(pathss)\n",
    "           # img_array.append(img)\n",
    "        #img_matrix=np.vstack(np.array(img_array))\n",
    "   # return img_matrix      \n",
    "            blur = cv2.GaussianBlur(img,(5,5),0)\n",
    "\n",
    "            img_gray = cv2.cvtColor(blur,cv2.COLOR_BGR2GRAY)\n",
    "\n",
    "            edges = cv2.Canny(img_gray,100,200)\n",
    "            ret,thresh = cv2.threshold(edges,127,255,cv2.THRESH_BINARY)\n",
    "\n",
    "            kernel = cv2.getStructuringElement(cv2.MORPH_CROSS,(5,5)) \n",
    "            #cv2.getStructuringElement(cv2.MORPH_ELLIPSE,(3,3))#np.ones((2,2),np.uint8)\n",
    "            dilation = cv2.dilate(thresh,kernel,iterations = 1)\n",
    "            #kernel = np.ones((3,3),np.uint8)\n",
    "            #opening = cv2.morphologyEx(dilation, cv2.MORPH_OPEN, kernel)\n",
    "         \n",
    "            binary=np.logical_not((dilation<0.5))\n",
    "            binary[99:,:]=1\n",
    "            #binary[30:60,:1]=1\n",
    "            binary[30:60,99:]=1\n",
    "            filled_I = binary_fill_holes(binary)\n",
    "            filled_I[99:,:]=0  \n",
    "            #filled_I[30:60,:1]=0\n",
    "            filled_I[30:60,99:]=0\n",
    "            #------------------------------------------------------\n",
    "            hull = convex_hull_image(filled_I)\n",
    "            contours = measure.find_contours(filled_I, 0.8)\n",
    "            cont=measure.find_contours(hull,0.8)\n",
    "            # Display the image and plot all contours found\n",
    "            fig, ax = plt.subplots()\n",
    "            ax.imshow(img, interpolation='nearest', cmap=plt.cm.gray)\n",
    "\n",
    "            for n, contour in enumerate(contours):\n",
    "                ax.plot(contour[:, 1], contour[:, 0], linewidth=2)\n",
    "\n",
    "            for n, contour in enumerate(cont):\n",
    "                ax.plot(contour[:, 1], contour[:, 0], linewidth=2)\n",
    "                \n",
    "            #------------------------------------------------------------\n",
    "            #fig,ax =plt.subplots(figsize=(5,5))\n",
    "            #ax.imshow(filled_I)\n"
   ]
  },
  {
   "cell_type": "code",
   "execution_count": 154,
   "metadata": {},
   "outputs": [
    {
     "name": "stdout",
     "output_type": "stream",
     "text": [
      "(2000, 100, 3)\n"
     ]
    }
   ],
   "source": []
  },
  {
   "cell_type": "code",
   "execution_count": null,
   "metadata": {},
   "outputs": [],
   "source": [
    "for         \n",
    "    img_gray = cv2.cvtColor(img,cv2.COLOR_BGR2GRAY)\n",
    "\n",
    "        edges = cv2.Canny(img_gray,100,200)\n",
    "        ret,thresh = cv2.threshold(edges,127,255,cv2.THRESH_BINARY)\n",
    "\n",
    "        kernel = np.ones((5,5),np.uint8)\n",
    "        dilation = cv2.dilate(thresh,kernel,iterations = 1)\n",
    "\n",
    "        binary=np.logical_not((dilation<0.5))\n",
    "        binary[99:,:]=1        \n",
    "        filled_I = binary_fill_holes(binary)\n",
    "        filled_I[99:,:]=0  \n",
    "        imshow(filled_I)"
   ]
  }
 ],
 "metadata": {
  "kernelspec": {
   "display_name": "Python 3",
   "language": "python",
   "name": "python3"
  },
  "language_info": {
   "codemirror_mode": {
    "name": "ipython",
    "version": 3
   },
   "file_extension": ".py",
   "mimetype": "text/x-python",
   "name": "python",
   "nbconvert_exporter": "python",
   "pygments_lexer": "ipython3",
   "version": "3.6.5"
  }
 },
 "nbformat": 4,
 "nbformat_minor": 2
}
