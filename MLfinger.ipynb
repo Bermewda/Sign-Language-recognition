{
 "cells": [
  {
   "cell_type": "code",
   "execution_count": 43,
   "metadata": {},
   "outputs": [],
   "source": [
    "import os\n",
    " #-----------------------------  open import ---------------------------------------#------ \n",
    "import cv2\n",
    "import numpy as np\n",
    "import matplotlib.pyplot as plt\n",
    "from skimage.io import imread,imshow\n",
    "from skimage import measure,color,io,feature\n",
    "from scipy.ndimage.morphology import binary_fill_holes\n",
    "import matplotlib.patches as mpatches\n",
    "from skimage.morphology import convex_hull_image\n",
    "from skimage.measure import label, regionprops\n",
    "import math\n",
    "from scipy import ndimage as ndi\n",
    "from skimage import feature\n",
    "from skimage.filters import threshold_mean\n",
    "from copy import copy,deepcopy\n",
    "%matplotlib inline"
   ]
  },
  {
   "cell_type": "code",
   "execution_count": 44,
   "metadata": {},
   "outputs": [
    {
     "name": "stdout",
     "output_type": "stream",
     "text": [
      "0 1 2 3 4 5 6 7 8 9 dataset.ipynb "
     ]
    },
    {
     "ename": "NotADirectoryError",
     "evalue": "[WinError 267] The directory name is invalid: 'C:/Users/Bermuda/OneDrive/Workshop/Dataset/dataset.ipynb'",
     "output_type": "error",
     "traceback": [
      "\u001b[1;31m---------------------------------------------------------------------------\u001b[0m",
      "\u001b[1;31mNotADirectoryError\u001b[0m                        Traceback (most recent call last)",
      "\u001b[1;32m<ipython-input-44-9beed72acb40>\u001b[0m in \u001b[0;36m<module>\u001b[1;34m()\u001b[0m\n\u001b[0;32m      3\u001b[0m     \u001b[0mprint\u001b[0m\u001b[1;33m(\u001b[0m\u001b[0mfname\u001b[0m\u001b[1;33m,\u001b[0m\u001b[0mend\u001b[0m\u001b[1;33m=\u001b[0m\u001b[1;34m' '\u001b[0m\u001b[1;33m)\u001b[0m\u001b[1;33m\u001b[0m\u001b[0m\n\u001b[0;32m      4\u001b[0m     \u001b[0mpaths\u001b[0m\u001b[1;33m=\u001b[0m\u001b[0mpath\u001b[0m\u001b[1;33m+\u001b[0m\u001b[1;34m'/'\u001b[0m\u001b[1;33m+\u001b[0m\u001b[0mstr\u001b[0m\u001b[1;33m(\u001b[0m\u001b[0mfname\u001b[0m\u001b[1;33m)\u001b[0m\u001b[1;33m\u001b[0m\u001b[0m\n\u001b[1;32m----> 5\u001b[1;33m     \u001b[1;32mfor\u001b[0m \u001b[0miname\u001b[0m \u001b[1;32min\u001b[0m \u001b[0mos\u001b[0m\u001b[1;33m.\u001b[0m\u001b[0mlistdir\u001b[0m\u001b[1;33m(\u001b[0m\u001b[0mpaths\u001b[0m\u001b[1;33m)\u001b[0m\u001b[1;33m:\u001b[0m\u001b[1;33m\u001b[0m\u001b[0m\n\u001b[0m\u001b[0;32m      6\u001b[0m         \u001b[1;31m#print(iname,end=' ')\u001b[0m\u001b[1;33m\u001b[0m\u001b[1;33m\u001b[0m\u001b[0m\n\u001b[0;32m      7\u001b[0m         \u001b[0mpathss\u001b[0m\u001b[1;33m=\u001b[0m\u001b[0mpaths\u001b[0m\u001b[1;33m+\u001b[0m\u001b[1;34m'/'\u001b[0m\u001b[1;33m+\u001b[0m\u001b[0mstr\u001b[0m\u001b[1;33m(\u001b[0m\u001b[0miname\u001b[0m\u001b[1;33m)\u001b[0m\u001b[1;33m\u001b[0m\u001b[0m\n",
      "\u001b[1;31mNotADirectoryError\u001b[0m: [WinError 267] The directory name is invalid: 'C:/Users/Bermuda/OneDrive/Workshop/Dataset/dataset.ipynb'"
     ]
    }
   ],
   "source": [
    "path='C:/Users/Bermuda/OneDrive/Workshop/Dataset'\n",
    "for fname in os.listdir(path):\n",
    "    print(fname,end=' ')\n",
    "    paths=path+'/'+str(fname)\n",
    "    for iname in os.listdir(paths):\n",
    "        #print(iname,end=' ')\n",
    "        pathss=paths+'/'+str(iname)\n",
    "        img=imread(pathss)\n",
    "\n",
    "        #convert rgb to hsv\n",
    "        img_hsv=cv2.cvtColor(img,cv2.COLOR_RGB2HSV)\n",
    "\n",
    "        #select green only\n",
    "        img_green=deepcopy(img_hsv)\n",
    "\n",
    "        img_green[:,:,0]=0\n",
    "        img_green[:,:,2]=0\n",
    "\n",
    "        #convert hsv green only to grayscale\n",
    "        img_gray0=img_green[:,:,1]\n",
    "\n",
    "        #thresholding\n",
    "        ret,thresh = cv2.threshold(img_gray0,50,255,cv2.THRESH_BINARY)\n",
    "\n",
    "        #morprology (dilation)\n",
    "        kernel = cv2.getStructuringElement(cv2.MORPH_RECT,(3,3)) \n",
    "        dilation = cv2.dilate(thresh,kernel,iterations = 1)\n",
    "        dilation[99:,:]=1\n",
    "        dilation[30:60,99:]=1\n",
    "\n",
    "        #fill holes\n",
    "        filled_I = binary_fill_holes(dilation)\n",
    "        filled_I[99:,:]=0  \n",
    "        filled_I[30:60,99:]=0\n",
    "        filled_I = filled_I*1"
   ]
  },
  {
   "cell_type": "code",
   "execution_count": 30,
   "metadata": {},
   "outputs": [],
   "source": [
    "        im2,contours,h= cv2.findContours(filled_I,2,1)\n",
    "        cnt = contours[0]\n",
    "        hull = cv2.convexHull(cnt,returnPoints = False)\n",
    "        hulla = cv2.convexHull(cnt,returnPoints = True)\n",
    "        hullarea = cv2.contourArea(hulla)\n",
    "        conarea = cv2.contourArea(cnt)\n",
    "        defects = cv2.convexityDefects(cnt,hull)"
   ]
  },
  {
   "cell_type": "code",
   "execution_count": 36,
   "metadata": {},
   "outputs": [],
   "source": [
    "#find center\n",
    "M = cv2.moments(cnt)\n",
    "cx = int(M[\"m10\"] / M[\"m00\"])\n",
    "cy = int(M[\"m01\"] / M[\"m00\"])\n",
    "center = (cx,cy+10)\n",
    "cv2.circle(img,center,1,[255,0,0],-1)\n",
    "\n",
    "count_defects = 0\n",
    "count_finger = 0\n",
    "lena = []\n",
    "lenfinger = []\n",
    "anglelist = []\n",
    "\n",
    "maxi = 0\n",
    "check = 0\n",
    "prelen=0\n",
    "#find defect\n",
    "for i in range(defects.shape[0]):\n",
    "    s,e,f,d = defects[i,0]\n",
    "    start = tuple(cnt[s][0])\n",
    "    end = tuple(cnt[e][0])\n",
    "    far = tuple(cnt[f][0])\n",
    "    \n",
    "    # find length of all sides of triangle\n",
    "    #start to end\n",
    "    a = math.sqrt((end[0] - start[0])**2 + (end[1] - start[1])**2)\n",
    "    #start to defect\n",
    "    b = math.sqrt((far[0] - start[0])**2 + (far[1] - start[1])**2)\n",
    "    #defect to end\n",
    "    c = math.sqrt((end[0] - far[0])**2 + (end[1] - far[1])**2)\n",
    "\n",
    "    # apply cosine rule here\n",
    "    angle = math.acos((b**2 + c**2 - a**2)/(2*b*c)) * 57\n",
    "    \n",
    "    #center to start check 1 \n",
    "    longlen = math.sqrt((start[0] - cx)**2 + (start[1] - cy)**2)\n",
    "    if longlen > maxi:\n",
    "        maxi = longlen\n",
    "        tip = start\n",
    "        \n",
    "    # ignore angles > 90 and highlight rest with red dots\n",
    "    if angle <= 92:\n",
    "        anglelist.append(angle)\n",
    "        count_defects += 1\n",
    "        cv2.circle(img, far, 1, [255,0,127], -1)\n",
    "        #dist = cv2.pointPolygonTest(cnt,far,True)\n",
    "        \n",
    "        # draw a line from start to end i.e. the convex points (finger tips)\n",
    "        # (can skip this part)\n",
    "        \n",
    "        cv2.line(img,start, end, [255,153,153], 2)\n",
    "        cv2.circle(img, start, 1, [153,51,255], -1)\n",
    "        cv2.circle(img, end, 1, [153,51,255], -1)\n",
    "        lena.append(a)\n",
    "        longlen1 = math.sqrt((start[0] - cx)**2 + (start[1] - cy)**2)\n",
    "        longlen2 = math.sqrt((end[0] - cx)**2 + (end[1] - cy)**2)\n",
    "        if count_defects == 1:\n",
    "            lenfinger.append(longlen1)\n",
    "            lenfinger.append(longlen2)\n",
    "            cv2.line(img,center,start,[255,0,0],1)\n",
    "            cv2.line(img,center,end,[255,0,0],1)\n",
    "            count_finger+=2\n",
    "        else:\n",
    "            lenfinger.append(longlen2)\n",
    "            cv2.line(img,center,end,[255,0,0],1)\n",
    "            count_finger+=1\n",
    "if count_defects == 0:\n",
    "    if tip[1]<cy:\n",
    "        cv2.circle(img, tip, 1, [153,51,255], -1)\n",
    "        cv2.line(img,center,tip,[255,0,0],1)\n",
    "        count_finger+=1"
   ]
  },
  {
   "cell_type": "code",
   "execution_count": 41,
   "metadata": {},
   "outputs": [
    {
     "name": "stdout",
     "output_type": "stream",
     "text": [
      "[5, 4, 0.6967706116406033, [41.339189410809, 27.996325102316852, 32.121595813328, 87.57320311910459], [22.47220505424423, 14.866068747318506, 18.027756377319946, 56.08029957123981], (47, 68)]\n"
     ]
    }
   ],
   "source": [
    "# print(count_finger)\n",
    "# print(count_defects)\n",
    "# print(conarea)\n",
    "# print(hullarea)\n",
    "# print(anglelist)\n",
    "# print(lena)\n",
    "# print(center)\n",
    "feature = [count_finger,count_defects,conarea/hullarea,anglelist,lena,center]\n",
    "print(feature)"
   ]
  },
  {
   "cell_type": "code",
   "execution_count": null,
   "metadata": {},
   "outputs": [],
   "source": [
    "from numpy import random, array\n",
    "\n",
    "#Create fake income/age clusters for N people in k clusters\n",
    "def createClusteredData(N, k):\n",
    "    random.seed(10)\n",
    "    pointsPerCluster = float(N)/k\n",
    "    X = []\n",
    "    for i in range (k):\n",
    "        incomeCentroid = random.uniform(20000.0, 200000.0)\n",
    "        ageCentroid = random.uniform(20.0, 70.0)\n",
    "        for j in range(int(pointsPerCluster)):\n",
    "            X.append([random.normal(incomeCentroid, 10000.0), random.normal(ageCentroid, 2.0)])\n",
    "    X = array(X)\n",
    "    return X"
   ]
  },
  {
   "cell_type": "code",
   "execution_count": null,
   "metadata": {},
   "outputs": [],
   "source": []
  }
 ],
 "metadata": {
  "kernelspec": {
   "display_name": "Python 3",
   "language": "python",
   "name": "python3"
  },
  "language_info": {
   "codemirror_mode": {
    "name": "ipython",
    "version": 3
   },
   "file_extension": ".py",
   "mimetype": "text/x-python",
   "name": "python",
   "nbconvert_exporter": "python",
   "pygments_lexer": "ipython3",
   "version": "3.6.5"
  }
 },
 "nbformat": 4,
 "nbformat_minor": 2
}
